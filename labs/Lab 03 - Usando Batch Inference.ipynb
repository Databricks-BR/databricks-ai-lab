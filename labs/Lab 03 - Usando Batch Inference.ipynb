{
 "cells": [
  {
   "cell_type": "markdown",
   "metadata": {
    "application/vnd.databricks.v1+cell": {
     "cellMetadata": {},
     "inputWidgets": {},
     "nuid": "18a7f3e8-c978-43f5-8bf6-b5bebc03e7e5",
     "showTitle": false,
     "tableResultSettingsMap": {},
     "title": ""
    }
   },
   "source": [
    "<img src=\"https://github.com/Databricks-BR/lab_genai/blob/main/img/header.png?raw=true\" width=100%>\n",
    "\n",
    "# Hands-On LAB 03 - Usando Batch Inference\n",
    "## Análise de sentimento, extração de entidades e geração de texto\n",
    "\n",
    "Treinamento Hands-on na plataforma Databricks com foco nas funcionalidades de IA Generativa."
   ]
  },
  {
   "cell_type": "markdown",
   "metadata": {
    "application/vnd.databricks.v1+cell": {
     "cellMetadata": {},
     "inputWidgets": {},
     "nuid": "e82b5312-9161-4b3c-abfc-1ae82b73e75f",
     "showTitle": false,
     "tableResultSettingsMap": {},
     "title": ""
    }
   },
   "source": [
    "## Objetivos do Exercício\n",
    "\n",
    "O objetivo desse laboratório é implementar o seguinte caso de uso:\n",
    "\n",
    "### Aumentando a satisfação do cliente com análise automática de avaliações\n",
    "\n",
    "Neste laboratório, construiremos um pipeline de dados que pega avaliações de clientes, na forma de texto livre e as enriquece com informações extraídas ao fazer perguntas em linguagem natural aos modelos de IA Generativa disponíveis no Databricks. Também forneceremos recomendações para as próximas melhores ações à nossa equipe de atendimento ao cliente - ou seja, se um cliente requer acompanhamento e um rascunho de mensagem de resposta.\n",
    "\n",
    "Para cada avaliação, nós:\n",
    "\n",
    "Identificamos o sentimento do cliente e extraímos os produtos mencionados\n",
    "- Geramos uma resposta personalizada para o cliente\n",
    "\n",
    "<img src=\"https://raw.githubusercontent.com/databricks-demos/dbdemos-resources/main/images/product/sql-ai-functions/sql-ai-query-function-review.png\" width=\"100%\">"
   ]
  },
  {
   "cell_type": "markdown",
   "metadata": {
    "application/vnd.databricks.v1+cell": {
     "cellMetadata": {},
     "inputWidgets": {},
     "nuid": "0ca1e820-8b17-4340-8538-c411b693b326",
     "showTitle": false,
     "tableResultSettingsMap": {},
     "title": ""
    }
   },
   "source": [
    "## Preparação\n",
    "\n",
    "Para executar os exercícios, precisamos conectar este notebook a um compute.\n",
    "\n",
    "Basta seguir os passos abaixo:\n",
    "1. No canto superior direito, clique em **Connect**\n",
    "2. Selecione o **SQL Warehouse** desejado"
   ]
  },
  {
   "cell_type": "markdown",
   "metadata": {
    "application/vnd.databricks.v1+cell": {
     "cellMetadata": {},
     "inputWidgets": {},
     "nuid": "58811d83-ec76-4fa5-b8cf-b20fe1dd2e2d",
     "showTitle": false,
     "tableResultSettingsMap": {},
     "title": ""
    }
   },
   "source": [
    "## Exercício 02.01 - Acessando o conjunto de dados\n",
    "\n",
    "Agora, vamos acessar as avaliações de produto que carregamos no laboratório anterior.\n",
    "\n",
    "Neste laboratório iremos utilizar duas tabelas:\n",
    "- **Avaliações**: dados não-estruturados com o conteúdo das avaliações\n",
    "- **Clientes**: dados estruturados como o cadastro e consumo dos clientes\n",
    "\n",
    "Agora, vamos visualizar estes dados!"
   ]
  },
  {
   "cell_type": "markdown",
   "metadata": {
    "application/vnd.databricks.v1+cell": {
     "cellMetadata": {},
     "inputWidgets": {},
     "nuid": "95e04f08-d2c3-468a-9c80-bbdc107c5dbe",
     "showTitle": false,
     "tableResultSettingsMap": {},
     "title": ""
    }
   },
   "source": [
    "### A. Selecionar o database que criamos anteriormente"
   ]
  },
  {
   "cell_type": "code",
   "execution_count": 0,
   "metadata": {
    "application/vnd.databricks.v1+cell": {
     "cellMetadata": {
      "byteLimit": 2048000,
      "rowLimit": 10000
     },
     "inputWidgets": {},
     "nuid": "6a3d8b53-6496-497e-a93a-5964c359a44d",
     "showTitle": false,
     "tableResultSettingsMap": {},
     "title": ""
    }
   },
   "outputs": [],
   "source": [
    "USE academy.playground"
   ]
  },
  {
   "cell_type": "markdown",
   "metadata": {
    "application/vnd.databricks.v1+cell": {
     "cellMetadata": {},
     "inputWidgets": {},
     "nuid": "655cf7c3-94e8-40a7-97b3-28e838a59684",
     "showTitle": false,
     "tableResultSettingsMap": {},
     "title": ""
    }
   },
   "source": [
    "### B. Visualizar a tabela de avaliações"
   ]
  },
  {
   "cell_type": "code",
   "execution_count": 0,
   "metadata": {
    "application/vnd.databricks.v1+cell": {
     "cellMetadata": {
      "byteLimit": 2048000,
      "rowLimit": 10000
     },
     "inputWidgets": {},
     "nuid": "e70d56b2-87b3-4d62-9bba-126a8d48676d",
     "showTitle": false,
     "tableResultSettingsMap": {},
     "title": ""
    }
   },
   "outputs": [],
   "source": [
    "SELECT * FROM avaliacoes"
   ]
  },
  {
   "cell_type": "markdown",
   "metadata": {
    "application/vnd.databricks.v1+cell": {
     "cellMetadata": {},
     "inputWidgets": {},
     "nuid": "78c216fb-cba5-416c-a90c-ae0875ea27cd",
     "showTitle": false,
     "tableResultSettingsMap": {},
     "title": ""
    }
   },
   "source": [
    "### C. Visualizar a tabela de clientes"
   ]
  },
  {
   "cell_type": "code",
   "execution_count": 0,
   "metadata": {
    "application/vnd.databricks.v1+cell": {
     "cellMetadata": {
      "byteLimit": 2048000,
      "rowLimit": 10000
     },
     "inputWidgets": {},
     "nuid": "52fe641d-4fef-4a20-8ff1-0fd3a06faec8",
     "showTitle": false,
     "tableResultSettingsMap": {},
     "title": ""
    }
   },
   "outputs": [],
   "source": [
    "SELECT * FROM clientes"
   ]
  },
  {
   "cell_type": "markdown",
   "metadata": {
    "application/vnd.databricks.v1+cell": {
     "cellMetadata": {},
     "inputWidgets": {},
     "nuid": "1f45b9e6-5cc8-42f7-9958-64cdc5284c60",
     "showTitle": false,
     "tableResultSettingsMap": {},
     "title": ""
    }
   },
   "source": [
    "## Exercício 02.02 - Analisando sentimento e extraindo informações\n",
    "\n",
    "Nosso objetivo é permitir a análise rápida de grandes volumes de avaliações de forma rápida e eficiente. Para isso, precisamos extrair as seguintes informações:\n",
    "\n",
    "- Produtos mencionados\n",
    "- Sentimento do cliente\n",
    "- Caso seja negativo, qual o motivo da insatisfação\n",
    "\n",
    "Vamos ver como podemos aplicar IA Generativa para acelerar nosso trabalho."
   ]
  },
  {
   "cell_type": "markdown",
   "metadata": {
    "application/vnd.databricks.v1+cell": {
     "cellMetadata": {},
     "inputWidgets": {},
     "nuid": "12c45cb6-94e1-4e63-9702-684151281cea",
     "showTitle": false,
     "tableResultSettingsMap": {},
     "title": ""
    }
   },
   "source": [
    "### 1. Usando Foundation Models\n",
    "\n",
    "<img src=\"https://docs.databricks.com/en/_images/serving-endpoints-list.png\" style=\"float: right; padding-left: 10px; padding-top: 15px\" width=600>\n",
    "\n",
    "Primeiro, precisamos de um modelo capaz de interpretar o texto das avaliações e extrair as informações desejadas. Para isso, vamos utilizar **[Foundation Models](https://docs.databricks.com/en/machine-learning/foundation-models/index.html#pay-per-token-foundation-model-apis)**, que são grandes modelos de linguagem (LLMs) servidos pela Databricks e que podem ser consultados sob-demanda sem a necessidade de implantação ou gerenciamento desses recursos.\n",
    "\n",
    "Alguns modelos disponíveis são:\n",
    "\n",
    "- Llama 3.1 48B Instruct\n",
    "- Llama 3.3 70B Instruct\n",
    "- Claude Sonnet 4\n",
    "- GPT-5\n",
    "- Gemini 2.5 Flash\n",
    "- GPT OSS 120B\n",
    "- GTE Large\n",
    "\n",
    "Agora, vamos vê-los em funcionamento!\n",
    "\n",
    "1. No **menu principal** à esquerda, clique em **`Serving`**\n",
    "2. No card do modelo **Meta Llama 3.1 8B Instruct**, clique em **`Use`**\n",
    "3. Adicione a instrução abaixo:\n",
    "    ```\n",
    "    Classifique o sentimento da seguinte avaliação:\n",
    "    Comprei um tablet e estou muito insatisfeito com a qualidade da bateria. Ela dura muito pouco tempo e demora muito para carregar.\n",
    "     ```\n",
    "    <br>\n",
    " 4. Clique no ícone **enviar**\n",
    "\n",
    "Com isso, já conseguimos de forma rápida começar a prototipar nossos novos produtos de dados!"
   ]
  },
  {
   "cell_type": "markdown",
   "metadata": {
    "application/vnd.databricks.v1+cell": {
     "cellMetadata": {},
     "inputWidgets": {},
     "nuid": "4d0c2abb-1a4f-4399-898f-3a819c24bf1d",
     "showTitle": false,
     "tableResultSettingsMap": {},
     "title": ""
    }
   },
   "source": [
    "### 2. Comparando modelos no AI Playground\n",
    "\n",
    "<img src=\"https://docs.databricks.com/en/_images/ai-playground.gif\" style=\"float: right; padding-left: 10px\" width=600>\n",
    "\n",
    "Para decidir qual o melhor modelo e instrução para o nosso caso de uso, podemos utilizar o **[AI Playground](https://docs.databricks.com/en/large-language-models/ai-playground.html)**.\n",
    "\n",
    "Assim, podemos testar rapidamente diversas combinações de modelos e instruções através de uma interface intuitiva e escolher a melhor opção para utilizarmos no nosso projeto.\n",
    "\n",
    "Vamos fazer o seguinte teste:\n",
    "\n",
    "1. No **menu principal** à esquerda, clique em **`Playgroud`**\n",
    "2. Clique no **seletor de modelos** e selecione o modelo **`Meta Llama 3.1 8B Instruct`** (caso já não esteja selecionado)\n",
    "3. Clique no ícone **`Add endpoint`**\n",
    "4. Clique no **seletor de modelos** e selecione o modelo **`Meta Llama 3.3 70B Instruct`**\n",
    "5. Clique no ícone **`Add endpoint`**\n",
    "6. Clique no **seletor de modelos** e selecione o modelo **`Llama 4 Maverick`**\n",
    "7. Adicione a instrução abaixo:\n",
    "  ```\n",
    "    Classifique o sentimento da seguinte avaliação:\n",
    "    Comprei um tablet e estou muito insatisfeito com a qualidade da bateria. Ela dura muito pouco tempo e demora muito para carregar.\n",
    "  ```\n",
    "<br>\n",
    "8. Clique no ícone **enviar**\n",
    "\n",
    "Agora, podemos comparar as respostas, o tempo e o custo de cada um dos modelos para escolher aquele que melhor atende às necessidades do nosso projeto!"
   ]
  },
  {
   "cell_type": "markdown",
   "metadata": {
    "application/vnd.databricks.v1+cell": {
     "cellMetadata": {},
     "inputWidgets": {},
     "nuid": "e6c86920-e916-4c08-94d1-1e470824d259",
     "showTitle": false,
     "tableResultSettingsMap": {},
     "title": ""
    }
   },
   "source": [
    "### 3. Usando AI Functions\n",
    "\n",
    "Por fim, para que possamos escalar a utilização dos modelos de IA Generativa, podemos utilizar **[AI Functions](https://docs.databricks.com/en/large-language-models/ai-functions.html)**.\n",
    "\n",
    "Estas permitem executar modelos de IA Generativa sobre nossos bancos de dados corporativos diretamente em consultas SQL, uma linguagem amplamente utiliza por analistas de dados e de negócio. Com isso, também podemos criar novas tabelas com as informações extraídas para serem utilizadas em nossas análises.\n",
    "\n",
    "Existem funções nativas para executar tarefas pré-definidas ou enviar qualquer instrução desejada para ser executada. Seguem as descrições abaixo:\n",
    "\n",
    "| Gen AI SQL Function | Descrição |\n",
    "| -- | -- |\n",
    "| [ai_analyze_sentiment](https://docs.databricks.com/pt/sql/language-manual/functions/ai_analyze_sentiment.html) | Análise de Sentimento |\n",
    "| [ai_classify](https://docs.databricks.com/pt/sql/language-manual/functions/ai_classify.html) | Classifica o texto de acordo com as categorias definidas |\n",
    "| [ai_extract](https://docs.databricks.com/pt/sql/language-manual/functions/ai_extract.html) | Extrai as entidades desejadas |\n",
    "| [ai_fix_grammar](https://docs.databricks.com/pt/sql/language-manual/functions/ai_fix_grammar.html) | Corrige a gramática do texto fornecido |\n",
    "| [ai_gen](https://docs.databricks.com/pt/sql/language-manual/functions/ai_gen.html) | Gera um novo texto conforme a instrução | \n",
    "| [ai_mask](https://docs.databricks.com/pt/sql/language-manual/functions/ai_mask.html) | Mascara dados sensíveis |\n",
    "| [ai_query](https://docs.databricks.com/pt/sql/language-manual/functions/ai_query.html) | Envia instruções para o modelo desejado |\n",
    "| [ai_similarity](https://docs.databricks.com/pt/sql/language-manual/functions/ai_similarity.html) | Calcula a similaridade entre duas expressões |\n",
    "| [ai_summarize](https://docs.databricks.com/pt/sql/language-manual/functions/ai_summarize.html) | Sumariza o texto fornecido |\n",
    "| [ai_translate](https://docs.databricks.com/pt/sql/language-manual/functions/ai_translate.html) | Traduz o texto fornecido |\n",
    "\n",
    "Para extrair as informações que precisamos, vamos utilizar algumas dessas funções abaixo!"
   ]
  },
  {
   "cell_type": "markdown",
   "metadata": {
    "application/vnd.databricks.v1+cell": {
     "cellMetadata": {},
     "inputWidgets": {},
     "nuid": "4332199d-6240-49c7-9567-2dc99f4ee3f6",
     "showTitle": false,
     "tableResultSettingsMap": {},
     "title": ""
    }
   },
   "source": [
    "#### A. Análise de sentimento"
   ]
  },
  {
   "cell_type": "code",
   "execution_count": 0,
   "metadata": {
    "application/vnd.databricks.v1+cell": {
     "cellMetadata": {
      "byteLimit": 2048000,
      "rowLimit": 10000
     },
     "inputWidgets": {},
     "nuid": "8e617ff6-0c9d-4969-8a61-8ce48d972f58",
     "showTitle": false,
     "tableResultSettingsMap": {},
     "title": ""
    }
   },
   "outputs": [],
   "source": [
    "SELECT\n",
    "  avaliacao,\n",
    "  ai_analyze_sentiment(avaliacao) as sentimento\n",
    "FROM\n",
    "  avaliacoes\n",
    "LIMIT 10"
   ]
  },
  {
   "cell_type": "markdown",
   "metadata": {
    "application/vnd.databricks.v1+cell": {
     "cellMetadata": {},
     "inputWidgets": {},
     "nuid": "9469a156-53ad-4207-9bb8-50c623062da7",
     "showTitle": false,
     "tableResultSettingsMap": {},
     "title": ""
    }
   },
   "source": [
    "#### B. Extração dos produtos mencionados"
   ]
  },
  {
   "cell_type": "code",
   "execution_count": 0,
   "metadata": {
    "application/vnd.databricks.v1+cell": {
     "cellMetadata": {
      "byteLimit": 2048000,
      "rowLimit": 10000
     },
     "inputWidgets": {},
     "nuid": "d6af61bf-fbfb-4609-ab5b-686f4bdd4588",
     "showTitle": false,
     "tableResultSettingsMap": {},
     "title": ""
    }
   },
   "outputs": [],
   "source": [
    "SELECT\n",
    "  avaliacao,\n",
    "  ai_extract(\n",
    "    avaliacao,\n",
    "    array('produto')\n",
    "  ) AS produtos_mencionados\n",
    "FROM avaliacoes\n",
    "LIMIT 10;"
   ]
  },
  {
   "cell_type": "markdown",
   "metadata": {
    "application/vnd.databricks.v1+cell": {
     "cellMetadata": {},
     "inputWidgets": {},
     "nuid": "95193676-d703-442b-92a4-f4a1e6fbb30a",
     "showTitle": false,
     "tableResultSettingsMap": {},
     "title": ""
    }
   },
   "source": [
    "#### C. Extração do motivo da insatisfação"
   ]
  },
  {
   "cell_type": "markdown",
   "metadata": {
    "application/vnd.databricks.v1+cell": {
     "cellMetadata": {},
     "inputWidgets": {},
     "nuid": "089d8e0e-a304-4ba2-9670-4031e5dfe8b9",
     "showTitle": false,
     "tableResultSettingsMap": {},
     "title": ""
    }
   },
   "source": [
    "*DICA: use a função AI_QUERY() para fornecer um prompt customizado*"
   ]
  },
  {
   "cell_type": "code",
   "execution_count": 0,
   "metadata": {
    "application/vnd.databricks.v1+cell": {
     "cellMetadata": {
      "byteLimit": 2048000,
      "rowLimit": 10000
     },
     "inputWidgets": {},
     "nuid": "c1d358a3-d9ce-432f-8cd3-04c7416f4236",
     "showTitle": false,
     "tableResultSettingsMap": {},
     "title": ""
    }
   },
   "outputs": [],
   "source": [
    "SELECT\n",
    "  avaliacao,\n",
    "  ai_query(\n",
    "    \"databricks-meta-llama-3-3-70b-instruct\",\n",
    "    avaliacao,\n",
    "    'Extraia o motivo da insatisfação do cliente.'\n",
    "  ) AS motivo_insatisfacao\n",
    "FROM avaliacoes\n",
    "LIMIT 10;"
   ]
  },
  {
   "cell_type": "markdown",
   "metadata": {
    "application/vnd.databricks.v1+cell": {
     "cellMetadata": {},
     "inputWidgets": {},
     "nuid": "0f386e6b-5d40-4754-a1de-1016557faea0",
     "showTitle": false,
     "tableResultSettingsMap": {},
     "title": ""
    }
   },
   "source": [
    "### 4. Analisando sentimento e extraindo entidades em escala\n",
    "\n",
    "Ter que especificar as instruções várias vezes acaba sendo trabalhoso, especialmente para Analistas de Dados que deveriam focar em analisar os resultados dessa extração.\n",
    "\n",
    "Para simplificar o acesso à essa inteligência, criaremos uma função SQL para encapsular esse processo e poder apenas informar em qual coluna do nosso conjunto de dados gostaríamos de aplicá-la.\n",
    "\n",
    "Aqui, vamos aproveitar para enviar uma única consulta ao nosso modelo para extrair todas as informações de uma única vez!\n",
    "\n",
    "<img src=\"https://raw.githubusercontent.com/databricks-demos/dbdemos-resources/main/images/product/sql-ai-functions/sql-ai-query-function-review-wrapper.png\" width=\"1200px\">"
   ]
  },
  {
   "cell_type": "markdown",
   "metadata": {
    "application/vnd.databricks.v1+cell": {
     "cellMetadata": {},
     "inputWidgets": {},
     "nuid": "5b76f994-0d30-43b4-800b-b3c00780048f",
     "showTitle": false,
     "tableResultSettingsMap": {},
     "title": ""
    }
   },
   "source": [
    "#### A. Criando uma função para extrair todas as informações"
   ]
  },
  {
   "cell_type": "code",
   "execution_count": 0,
   "metadata": {
    "application/vnd.databricks.v1+cell": {
     "cellMetadata": {
      "byteLimit": 2048000,
      "rowLimit": 10000
     },
     "inputWidgets": {},
     "nuid": "ce4f7609-556d-4633-b9a9-5b43d5d819bd",
     "showTitle": false,
     "tableResultSettingsMap": {},
     "title": ""
    }
   },
   "outputs": [],
   "source": [
    "CREATE OR REPLACE FUNCTION REVISAR_AVALIACAO(avaliacao STRING)\n",
    "RETURNS STRUCT<\n",
    "  produto_nome: STRING,\n",
    "  produto_categoria: STRING,\n",
    "  sentimento: STRING,\n",
    "  resposta: STRING,\n",
    "  resposta_motivo: STRING\n",
    ">\n",
    "RETURN FROM_JSON(\n",
    "  REGEXP_REPLACE(\n",
    "    AI_QUERY(\n",
    "      'databricks-meta-llama-3-3-70b-instruct',\n",
    "      CONCAT(\n",
    "        'Analise a avaliação a seguir e retorne um JSON **válido e compacto**, sem texto adicional. ',\n",
    "        'Campos obrigatórios: produto_nome, produto_categoria, sentimento, resposta, resposta_motivo. ',\n",
    "        'Formato exato: {\"produto_nome\":\"\",\"produto_categoria\":\"\",\"sentimento\":\"\",\"resposta\":\"\",\"resposta_motivo\":\"\"} ',\n",
    "        'Avaliação: ', avaliacao\n",
    "      )\n",
    "    ),\n",
    "    '\\\\n', ''  -- remove quebras de linha\n",
    "  ),\n",
    "  'STRUCT<\n",
    "    produto_nome: STRING,\n",
    "    produto_categoria: STRING,\n",
    "    sentimento: STRING,\n",
    "    resposta: STRING,\n",
    "    resposta_motivo: STRING\n",
    "  >'\n",
    ");"
   ]
  },
  {
   "cell_type": "markdown",
   "metadata": {
    "application/vnd.databricks.v1+cell": {
     "cellMetadata": {},
     "inputWidgets": {},
     "nuid": "64a94ab4-0715-47f1-9ebc-c35dff3a6096",
     "showTitle": false,
     "tableResultSettingsMap": {},
     "title": ""
    }
   },
   "source": [
    "#### B. Testando a análise das avaliações"
   ]
  },
  {
   "cell_type": "code",
   "execution_count": 0,
   "metadata": {
    "application/vnd.databricks.v1+cell": {
     "cellMetadata": {
      "byteLimit": 2048000,
      "rowLimit": 10000
     },
     "inputWidgets": {},
     "nuid": "237b0794-44ee-4e7f-a309-0dd0ba133bc6",
     "showTitle": false,
     "tableResultSettingsMap": {},
     "title": ""
    }
   },
   "outputs": [],
   "source": [
    "SELECT \n",
    "  REVISAR_AVALIACAO(\n",
    "    'Comprei um aspirador de pó da marca Electrolux e fiquei bem decepcionada. \n",
    "     O produto faz muito barulho e a sucção é fraca. \n",
    "     Esperava mais pela faixa de preço. \n",
    "     Gostaria que a empresa entrasse em contato para resolver o problema.'\n",
    "  ) AS resultado;"
   ]
  },
  {
   "cell_type": "markdown",
   "metadata": {
    "application/vnd.databricks.v1+cell": {
     "cellMetadata": {},
     "inputWidgets": {},
     "nuid": "4fcc73f6-cb71-410a-8fef-9dc3ac01da7e",
     "showTitle": false,
     "tableResultSettingsMap": {},
     "title": ""
    }
   },
   "source": [
    "#### C. Analisando todas as avaliações"
   ]
  },
  {
   "cell_type": "code",
   "execution_count": 0,
   "metadata": {
    "application/vnd.databricks.v1+cell": {
     "cellMetadata": {
      "byteLimit": 2048000,
      "rowLimit": 10000
     },
     "inputWidgets": {},
     "nuid": "454e07e8-4a36-4d45-a45b-e666be150017",
     "showTitle": false,
     "tableResultSettingsMap": {},
     "title": ""
    }
   },
   "outputs": [],
   "source": [
    "CREATE OR REPLACE TABLE avaliacoes_revisadas AS\n",
    "SELECT *, resultado.*\n",
    "FROM (\n",
    "  SELECT \n",
    "    avaliacao,\n",
    "    REVISAR_AVALIACAO(avaliacao) AS resultado\n",
    "  FROM avaliacoes\n",
    "  LIMIT 10\n",
    ");\n",
    "\n",
    "SELECT * FROM avaliacoes_revisadas"
   ]
  },
  {
   "cell_type": "markdown",
   "metadata": {
    "application/vnd.databricks.v1+cell": {
     "cellMetadata": {},
     "inputWidgets": {},
     "nuid": "1c2ef625-dca8-4fd0-b0c7-3f2b86e88840",
     "showTitle": false,
     "tableResultSettingsMap": {},
     "title": ""
    }
   },
   "source": [
    "Agora, todos os nossos usuários podem aproveitar nossa função que foi cuidadosamente preparada para analisar nossas avaliações de produtos.\n",
    "\n",
    "E podemos escalar esse processo facilmente aplicando essa função sobre todo o nosso conjunto de dados!"
   ]
  },
  {
   "cell_type": "markdown",
   "metadata": {
    "application/vnd.databricks.v1+cell": {
     "cellMetadata": {},
     "inputWidgets": {},
     "nuid": "e0aa3535-4f6e-46a5-8ce0-11dfc5508bb9",
     "showTitle": false,
     "tableResultSettingsMap": {},
     "title": ""
    }
   },
   "source": [
    "## Exercício 02.03 - Gerando uma sugestão de resposta\n",
    "\n",
    "Com todas as informações extraídas, podemos aproveitá-las para gerar sugestões de respostas personalizadas para acelerar o trabalho dos nossos times de atendimento.\n",
    "\n",
    "Outro ponto interessante é que, nesse processo, podemos aproveitar outras **informações estruturadas** que já tenhamos no nosso ambiente, como dados demográficos, psicográficos e o histórico de compras, para customizar ainda mais nossas respostas!\n",
    "\n",
    "Vamos ver como fazer isso!"
   ]
  },
  {
   "cell_type": "markdown",
   "metadata": {
    "application/vnd.databricks.v1+cell": {
     "cellMetadata": {},
     "inputWidgets": {},
     "nuid": "b9732420-c98c-4df2-80a7-9a3bc431aa8e",
     "showTitle": false,
     "tableResultSettingsMap": {},
     "title": ""
    }
   },
   "source": [
    "### A. Criando uma função para gerar um exemplo de resposta"
   ]
  },
  {
   "cell_type": "code",
   "execution_count": 0,
   "metadata": {
    "application/vnd.databricks.v1+cell": {
     "cellMetadata": {
      "byteLimit": 2048000,
      "rowLimit": 10000
     },
     "inputWidgets": {},
     "nuid": "a6687684-4ebf-458c-adbd-03b8d96018ee",
     "showTitle": false,
     "tableResultSettingsMap": {},
     "title": ""
    }
   },
   "outputs": [],
   "source": [
    "CREATE OR REPLACE FUNCTION GERAR_RESPOSTA(\n",
    "    nome STRING,\n",
    "    sobrenome STRING,\n",
    "    num_pedidos INT,\n",
    "    produto STRING,\n",
    "    motivo STRING\n",
    ")\n",
    "RETURNS TABLE(resposta STRING)\n",
    "COMMENT 'Caso o cliente demonstre insatisfação com algum produto, use esta função para gerar uma resposta personalizada'\n",
    "RETURN \n",
    "SELECT AI_QUERY(\n",
    "    'databricks-meta-llama-3-3-70b-instruct',\n",
    "    CONCAT(\n",
    "        'Você é um assistente virtual responsável por gerar uma resposta amigável e profissional para um cliente que está insatisfeito. ',\n",
    "        'Seu objetivo é acalmar o cliente, reconhecer o problema e, se aplicável, sugerir uma solução ou troca dentro da política da empresa. ',\n",
    "        'Evite gerar informações falsas ou inventar detalhes sobre o cliente ou pedidos. ',\n",
    "        'Controle o tamanho da mensagem para que seja clara e objetiva (máx. 150 palavras). ',\n",
    "        'Use um tom cordial, empático e profissional. ',\n",
    "        'Dados do cliente: Nome: ', gerar_resposta.nome, ' ', gerar_resposta.sobrenome, \n",
    "        ', Número de pedidos anteriores: ', CAST(gerar_resposta.num_pedidos AS STRING), '. ',\n",
    "        'Produto: ', gerar_resposta.produto, '. ',\n",
    "        'Motivo da insatisfação: ', gerar_resposta.motivo, '. ',\n",
    "        'Gere uma resposta personalizada considerando estas informações.'\n",
    "    )\n",
    ");"
   ]
  },
  {
   "cell_type": "markdown",
   "metadata": {
    "application/vnd.databricks.v1+cell": {
     "cellMetadata": {},
     "inputWidgets": {},
     "nuid": "0a143def-0fee-4c7f-9fe3-6221b263c9de",
     "showTitle": false,
     "tableResultSettingsMap": {},
     "title": ""
    }
   },
   "source": [
    "### B. Gerando respostas automatizadas para todas as avaliações negativas"
   ]
  },
  {
   "cell_type": "code",
   "execution_count": 0,
   "metadata": {
    "application/vnd.databricks.v1+cell": {
     "cellMetadata": {
      "byteLimit": 2048000,
      "rowLimit": 10000
     },
     "inputWidgets": {},
     "nuid": "665ecd7d-978c-4ee6-8741-acdf530617c5",
     "showTitle": false,
     "tableResultSettingsMap": {},
     "title": ""
    }
   },
   "outputs": [],
   "source": [
    "CREATE OR REPLACE TABLE avaliacoes_revisadas AS\n",
    "SELECT \n",
    "  a.id_avaliacao,\n",
    "  a.id_cliente,\n",
    "  c.nome,\n",
    "  c.sobrenome,\n",
    "  c.num_pedidos,\n",
    "  a.avaliacao,\n",
    "  REVISAR_AVALIACAO(a.avaliacao) AS resultado\n",
    "FROM avaliacoes a\n",
    "JOIN clientes c ON a.id_cliente = c.id_cliente;\n",
    "\n",
    "SELECT * FROM avaliacoes_revisadas"
   ]
  },
  {
   "cell_type": "code",
   "execution_count": 0,
   "metadata": {
    "application/vnd.databricks.v1+cell": {
     "cellMetadata": {
      "byteLimit": 2048000,
      "rowLimit": 10000
     },
     "inputWidgets": {},
     "nuid": "314025b1-4938-4f13-97ad-26c137f8c524",
     "showTitle": false,
     "tableResultSettingsMap": {},
     "title": ""
    }
   },
   "outputs": [],
   "source": [
    "CREATE OR REPLACE TABLE respostas AS\n",
    "SELECT \n",
    "  r.id_avaliacao,\n",
    "  r.id_cliente,\n",
    "  r.nome,\n",
    "  r.sobrenome,\n",
    "  r.num_pedidos,\n",
    "  r.resultado.produto_nome AS produto_nome,\n",
    "  r.resultado.produto_categoria AS produto_categoria,\n",
    "  r.resultado.sentimento AS sentimento,\n",
    "  r.resultado.resposta_motivo AS resposta_motivo,\n",
    "  CASE\n",
    "    WHEN LOWER(r.resultado.sentimento) = 'negativo' THEN (\n",
    "      SELECT * FROM GERAR_RESPOSTA(\n",
    "        r.nome,\n",
    "        r.sobrenome,\n",
    "        r.num_pedidos,\n",
    "        r.resultado.produto_nome,\n",
    "        r.resultado.resposta_motivo\n",
    "      )\n",
    "    )\n",
    "    ELSE NULL\n",
    "  END AS rascunho\n",
    "FROM avaliacoes_revisadas r;\n",
    "\n",
    "SELECT * FROM respostas"
   ]
  },
  {
   "cell_type": "markdown",
   "metadata": {
    "application/vnd.databricks.v1+cell": {
     "cellMetadata": {},
     "inputWidgets": {},
     "nuid": "c7d534dd-8ae1-4f21-9e31-31e4832ec521",
     "showTitle": false,
     "tableResultSettingsMap": {},
     "title": ""
    }
   },
   "source": [
    "# Parabéns!\n",
    "\n",
    "Você concluiu o laboratório de **Extração de informações e geração de texto**!\n",
    "\n",
    "Agora, você já sabe como utilizar a Foundation Models, Playground e AI Functions para analisar o sentimento e identificar entidades em avaliações de produtos de forma simples e escalável!"
   ]
  }
 ],
 "metadata": {
  "application/vnd.databricks.v1+notebook": {
   "computePreferences": {
    "hardware": {
     "accelerator": null,
     "gpuPoolId": null,
     "memory": null
    }
   },
   "dashboards": [],
   "environmentMetadata": {
    "base_environment": "dbe_0c235d96-4bc7-4fb5-b118-17fd1dad0124",
    "environment_version": "4"
   },
   "inputWidgetPreferences": null,
   "language": "sql",
   "notebookMetadata": {
    "pythonIndentUnit": 2
   },
   "notebookName": "Lab 03 - Usando Batch Inference",
   "widgets": {}
  },
  "language_info": {
   "name": "sql"
  }
 },
 "nbformat": 4,
 "nbformat_minor": 0
}