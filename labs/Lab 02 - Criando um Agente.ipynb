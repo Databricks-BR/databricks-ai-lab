{
 "cells": [
  {
   "cell_type": "markdown",
   "metadata": {
    "application/vnd.databricks.v1+cell": {
     "cellMetadata": {},
     "inputWidgets": {},
     "nuid": "c17fd2eb-db57-4e73-b14c-adaf33182248",
     "showTitle": false,
     "tableResultSettingsMap": {},
     "title": ""
    }
   },
   "source": [
    "<img src=\"https://github.com/Databricks-BR/lab_genai/blob/main/img/header.png?raw=true\" width=100%>"
   ]
  },
  {
   "cell_type": "markdown",
   "metadata": {
    "application/vnd.databricks.v1+cell": {
     "cellMetadata": {
      "byteLimit": 2048000,
      "rowLimit": 10000
     },
     "inputWidgets": {},
     "nuid": "6612f355-cd8a-4ab8-89c6-65b003455e96",
     "showTitle": false,
     "tableResultSettingsMap": {},
     "title": ""
    }
   },
   "source": [
    "# Lab 02 - Criando um Agente\n",
    "\n",
    "LLMs são ótimos para responder a perguntas gerais. No entanto, isso sozinho não é suficiente para fornecer valor aos seus clientes.\n",
    "\n",
    "Para ser capaz de fornecer respostas mais complexas, informações adicionais e específicas para o usuário são necessárias, como seu ID de contrato, o último e-mail que enviaram para o seu suporte ou seu relatório de compras mais recentes.\n",
    "\n",
    "Agentes são projetados para superar este desafio. Eles são implantações de IA mais avançadas, compostas por múltiplas entidades (ferramentas) especializadas em diferentes ações (recuper informações ou interagir com sistemas externos).\n",
    "\n",
    "De forma geral, você constrói e apresenta um conjunto de funções personalizadas para a IA. A LLM pode então raciocinar sobre quais informações precisam ser reunidas e quais ferramentas utilizar para responder às intruções recebidas.\n",
    "\n",
    "<br><img src=\"https://github.com/databricks-demos/dbdemos-resources/blob/main/images/product/llm-tools-functions/llm-tools-functions-flow.png?raw=true\" width=\"100%\">"
   ]
  },
  {
   "cell_type": "markdown",
   "metadata": {
    "application/vnd.databricks.v1+cell": {
     "cellMetadata": {
      "byteLimit": 2048000,
      "rowLimit": 10000
     },
     "inputWidgets": {},
     "nuid": "8292e8d3-9a9a-4c9f-85d3-75c65b34d4d4",
     "showTitle": false,
     "tableResultSettingsMap": {},
     "title": ""
    }
   },
   "source": [
    "# Configuração do ambiente\n",
    "\n",
    "Vamos começar selecionando o nosso banco de dados"
   ]
  },
  {
   "cell_type": "code",
   "execution_count": 0,
   "metadata": {
    "application/vnd.databricks.v1+cell": {
     "cellMetadata": {
      "byteLimit": 2048000,
      "implicitDf": true,
      "rowLimit": 10000
     },
     "inputWidgets": {},
     "nuid": "7fc55335-f0ad-44a0-b973-f8182a38c8e3",
     "showTitle": false,
     "tableResultSettingsMap": {},
     "title": ""
    }
   },
   "outputs": [],
   "source": [
    "%sql USE academy.playground"
   ]
  },
  {
   "cell_type": "markdown",
   "metadata": {
    "application/vnd.databricks.v1+cell": {
     "cellMetadata": {
      "byteLimit": 2048000,
      "rowLimit": 10000
     },
     "inputWidgets": {},
     "nuid": "ae73c2ad-6094-4bc7-b364-fd63fa58dd12",
     "showTitle": false,
     "tableResultSettingsMap": {},
     "title": ""
    }
   },
   "source": [
    "# Exercício 01 - Usando LLMs"
   ]
  },
  {
   "cell_type": "markdown",
   "metadata": {
    "application/vnd.databricks.v1+cell": {
     "cellMetadata": {
      "byteLimit": 2048000,
      "rowLimit": 10000
     },
     "inputWidgets": {},
     "isMarkdownSandbox": true,
     "nuid": "3952691a-847b-4293-b4fc-39027f96038f",
     "showTitle": false,
     "tableResultSettingsMap": {},
     "title": ""
    }
   },
   "source": [
    "## a. Usando Databricks Foundation Models\n",
    "\n",
    "<img src=\"https://docs.databricks.com/en/_images/serving-endpoints-list.png\" style=\"float: right; padding-left: 10px; padding-top: 15px\" width=600>\n",
    "\n",
    "Precisamos de um modelo capaz de interpretar o texto das avaliações e extrair as informações desejadas. Para isso, vamos utilizar **[Foundation Models](https://docs.databricks.com/en/machine-learning/foundation-models/index.html#pay-per-token-foundation-model-apis)**, que são grandes modelos de linguagem (LLMs) servidos pela Databricks e que podem ser consultados sob-demanda sem a necessidade de implantação ou gerenciamento desses recursos.\n",
    "\n",
    "Alguns modelos disponíveis são:\n",
    "\n",
    "- Meta Llama\n",
    "- OpenAI GPT e GPT OSS\n",
    "- Anthropic Claude Sonnet e Opus\n",
    "- Google Gemini e Gemma\n",
    "- GTE Large\n",
    "- BGE Large\n",
    "\n",
    "Agora, vamos vê-los em funcionamento!\n",
    "\n",
    "1. No **menu principal** à esquerda, clique em **`Serving`**\n",
    "2. No card do modelo **Llama 4 Maverick**, clique em **`Use`**\n",
    "3. Adicione a instrução abaixo:\n",
    "    ```\n",
    "    Classifique o sentimento da seguinte avaliação:\n",
    "    Comprei um tablet e estou muito insatisfeito com a qualidade da bateria. Ela dura muito pouco tempo e demora muito para carregar.\n",
    "    ```\n",
    "    <br>\n",
    "4. Clique no ícone **enviar**\n",
    "\n",
    "Com isso, já conseguimos de forma rápida começar a prototipar nossos novos produtos de dados!\n",
    "\n",
    "**NOTA:** A lista completa de modelos pode ser acessada em: https://docs.databricks.com/aws/en/machine-learning/foundation-model-apis/supported-models"
   ]
  },
  {
   "cell_type": "markdown",
   "metadata": {
    "application/vnd.databricks.v1+cell": {
     "cellMetadata": {
      "byteLimit": 2048000,
      "rowLimit": 10000
     },
     "inputWidgets": {},
     "isMarkdownSandbox": true,
     "nuid": "5839227a-bee3-42c4-94ef-119cfcde15e0",
     "showTitle": false,
     "tableResultSettingsMap": {},
     "title": ""
    }
   },
   "source": [
    "## b. Testando modelos no AI Playground\n",
    "\n",
    "<img src=\"https://docs.databricks.com/en/_images/ai-playground.gif\" style=\"float: right; padding-left: 10px\" width=600>\n",
    "\n",
    "Para decidir qual o melhor modelo e instrução para o nosso caso de uso, podemos utilizar o **[AI Playground](https://docs.databricks.com/en/large-language-models/ai-playground.html)**.\n",
    "\n",
    "Assim, podemos testar rapidamente diversas combinações de modelos e instruções através de uma interface intuitiva e escolher a melhor opção par utilizarmos no nosso projeto.\n",
    "\n",
    "Vamos fazer o seguinte teste:\n",
    "\n",
    "1. No **menu principal** à esquerda, clique em **`Playgroud`**\n",
    "2. Clique no **seletor de modelos** e selecione o modelo **`Llama 4 Maverick`**\n",
    "3. Clique no ícone **`Add endpoint`**\n",
    "4. Clique no **seletor de modelos** e selecione o modelo **`GPT OSS 20B`**\n",
    "5. Clique no ícone **`Add endpoint`**\n",
    "6. Clique no **seletor de modelos** e selecione o modelo **`Gemma 3 12B`**\n",
    "7. Adicione a instrução abaixo:\n",
    "    ```\n",
    "    Classifique o sentimento da seguinte avaliação:\n",
    "    Comprei um tablet e estou muito insatisfeito com a qualidade da bateria. Ela dura muito pouco tempo e demora muito para carregar.\n",
    "    ```\n",
    "    <br>\n",
    "8. Clique no ícone **enviar**\n",
    "\n",
    "Agora, podemos comparar as respostas, o tempo e o custo de cada um dos modelos para escolher aquele que melhor atende às necessidades do nosso projeto!"
   ]
  },
  {
   "cell_type": "markdown",
   "metadata": {
    "application/vnd.databricks.v1+cell": {
     "cellMetadata": {
      "byteLimit": 2048000,
      "rowLimit": 10000
     },
     "inputWidgets": {},
     "isMarkdownSandbox": true,
     "nuid": "e67ae0ee-e563-49cf-bcfe-23af4dfb3f6e",
     "showTitle": false,
     "tableResultSettingsMap": {},
     "title": ""
    }
   },
   "source": [
    "# Exercício 02 - Definindo as ferramentas\n",
    "\n",
    "<img src=\"https://github.com/databricks-demos/dbdemos-resources/blob/main/images/product/llm-tools-functions/llm-tools-functions-playground.gif?raw=true\" style=\"float: right; padding-left: 10px\" width=600>\n",
    "\n",
    "As ferramentas de agentes de IA permitem que os agentes realizem tarefas além da geração de linguagem, como recuperar dados estruturados ou não estruturados e executar código personalizado.\n",
    "\n",
    "Para criar uma ferramenta com o Mosaic AI Agent Framework, você pode usar qualquer combinação dos seguintes métodos:\n",
    "\n",
    "|Método| Descrição|\n",
    "|---|---|\n",
    "|**Funções do Unity Catalog**| - Definidas e gerenciadas no Unity Catalog com recursos de segurança e conformidade integrados <br> - Cria um registro central para ferramentas que podem ser governadas como outros objetos do Unity Catalog <br> - Concede maior facilidade de descoberta e reutilização <br> - Ideal para aplicar transformações e agregações em grandes conjuntos de dados|\n",
    "|**Ferramentas de código de agente**| - Definidas no código do agente de IA <br> - Úteis para chamar APIs REST, usar código arbitrário ou executar ferramentas de baixa latência <br> - Não possuem governança integrada e facilidade de descoberta de funções|"
   ]
  },
  {
   "cell_type": "markdown",
   "metadata": {
    "application/vnd.databricks.v1+cell": {
     "cellMetadata": {
      "byteLimit": 2048000,
      "rowLimit": 10000
     },
     "inputWidgets": {},
     "nuid": "3a1f3831-3ec8-48c8-9f3f-65a640bfd684",
     "showTitle": false,
     "tableResultSettingsMap": {},
     "title": ""
    }
   },
   "source": [
    "## a. Executando processamentos arbitrários\n",
    "\n",
    "Ferramentas podem ser muito úteis para definir as tarefas que um agente pode executar. Muitas vezes, essas tarefas são específicas do nosso negócio e precisamos definir como o agente irá executá-las. Nesse casos, podemos usar uma lógica arbitrária para desenvolver essas rotinas de forma mais flexível.\n",
    "\n",
    "Alguns casos de uso são:\n",
    "* Cálculos matemáticos\n",
    "* Tratamentos de texto\n",
    "* Aplicação de regras de negócio\n",
    "* Validações"
   ]
  },
  {
   "cell_type": "code",
   "execution_count": 0,
   "metadata": {
    "application/vnd.databricks.v1+cell": {
     "cellMetadata": {
      "byteLimit": 2048000,
      "implicitDf": true,
      "rowLimit": 10000
     },
     "inputWidgets": {},
     "nuid": "c67d595e-3900-4af7-a5e8-80222707df03",
     "showTitle": false,
     "tableResultSettingsMap": {},
     "title": ""
    }
   },
   "outputs": [],
   "source": [
    "%sql CREATE OR REPLACE FUNCTION valida_cpf(\n",
    "  cpf STRING COMMENT 'Número do CPF'\n",
    ")\n",
    "RETURNS BIGINT\n",
    "LANGUAGE PYTHON\n",
    "COMMENT 'Use esta função para validar um CPF e convertê-lo para número. Retorna -1 se o CPF for inválido.'\n",
    "AS\n",
    "$$\n",
    "  cpf = cpf.replace(\".\", \"\").replace(\"-\", \"\")\n",
    "  if len(cpf) != 11:\n",
    "    return False\n",
    "  elif not cpf.isdigit():\n",
    "    return False\n",
    "  else:\n",
    "    d1 = (int(cpf[0])*1 + int(cpf[1])*2 + int(cpf[2])*3 + int(cpf[3])*4 + int(cpf[4])*5 + int(cpf[5])*6 + int(cpf[6])*7 + int(cpf[7])*8 + int(cpf[8])*9) % 11 % 10\n",
    "    d2 = (int(cpf[0])*0 + int(cpf[1])*1 + int(cpf[2])*2 + int(cpf[3])*3 + int(cpf[4])*4 + int(cpf[5])*5 + int(cpf[6])*6 + int(cpf[7])*7 + int(cpf[8])*8 + d1*9) % 11 % 10\n",
    "    if d1 == int(cpf[9]) and d2 == int(cpf[10]):\n",
    "      return int(cpf)\n",
    "    else:\n",
    "      return -1\n",
    "$$"
   ]
  },
  {
   "cell_type": "code",
   "execution_count": 0,
   "metadata": {
    "application/vnd.databricks.v1+cell": {
     "cellMetadata": {
      "byteLimit": 2048000,
      "implicitDf": true,
      "rowLimit": 10000
     },
     "inputWidgets": {},
     "nuid": "c4843fe7-54a3-4533-8040-83891d238291",
     "showTitle": false,
     "tableResultSettingsMap": {},
     "title": ""
    }
   },
   "outputs": [],
   "source": [
    "%sql SELECT valida_cpf(\"111.111.111-11\")"
   ]
  },
  {
   "cell_type": "markdown",
   "metadata": {
    "application/vnd.databricks.v1+cell": {
     "cellMetadata": {
      "byteLimit": 2048000,
      "rowLimit": 10000
     },
     "inputWidgets": {},
     "nuid": "9441c57e-f134-4df4-a877-34a18e2b5dfe",
     "showTitle": false,
     "tableResultSettingsMap": {},
     "title": ""
    }
   },
   "source": [
    "## b. Consultando dados estruturados\n",
    "\n",
    "Para conseguirmos extrair o máximo de valor dos nossos agentes, precisamos que eles consigam acessar nossos dados corporativos. Somente com essa combinação conseguiremos de fato criar aplicações capazes de impactar o nosso negócio.\n",
    "\n",
    "### Acessando dados do Lakehouse\n",
    "\n",
    "Vamos ver como acessar os dados das nossas tabelas Delta."
   ]
  },
  {
   "cell_type": "code",
   "execution_count": 0,
   "metadata": {
    "application/vnd.databricks.v1+cell": {
     "cellMetadata": {
      "byteLimit": 2048000,
      "implicitDf": true,
      "rowLimit": 10000
     },
     "inputWidgets": {},
     "nuid": "ecdd3496-b7ea-409d-925b-d94317a15388",
     "showTitle": false,
     "tableResultSettingsMap": {},
     "title": ""
    }
   },
   "outputs": [],
   "source": [
    "%sql CREATE OR REPLACE FUNCTION consultar_cliente(id BIGINT)\n",
    "RETURNS TABLE (id_cliente BIGINT, nome STRING, sobrenome STRING, num_pedidos INT)\n",
    "COMMENT 'Use esta função para consultar os dados de um cliente'\n",
    "RETURN SELECT id_cliente, nome, sobrenome, num_pedidos FROM academy.playground.clientes c WHERE c.id_cliente = consultar_cliente.id"
   ]
  },
  {
   "cell_type": "code",
   "execution_count": 0,
   "metadata": {
    "application/vnd.databricks.v1+cell": {
     "cellMetadata": {
      "byteLimit": 2048000,
      "implicitDf": true,
      "rowLimit": 10000
     },
     "inputWidgets": {},
     "nuid": "41a4dff1-0054-458d-9d4f-560a277ea67b",
     "showTitle": false,
     "tableResultSettingsMap": {},
     "title": ""
    }
   },
   "outputs": [],
   "source": [
    "%sql SELECT * FROM consultar_cliente(11111111111)"
   ]
  },
  {
   "cell_type": "markdown",
   "metadata": {
    "application/vnd.databricks.v1+cell": {
     "cellMetadata": {
      "byteLimit": 2048000,
      "rowLimit": 10000
     },
     "inputWidgets": {},
     "isMarkdownSandbox": true,
     "nuid": "6a969971-35f7-4b4a-8531-f80ada68140e",
     "showTitle": false,
     "tableResultSettingsMap": {},
     "title": ""
    }
   },
   "source": [
    "\n",
    "<img src=\"https://docs.databricks.com/aws/en/assets/images/create-online-table-473e834357fdf2f576706b4a9100850f.png\" style=\"float: right; width: 800px; margin-top: 70px; margin-left: 10px\">\n",
    "\n",
    "### Lakebase\n",
    "\n",
    "Para cenários onde necessitamos de menores latências, também podemos utilizar **[Databricks Lakebase](https://docs.databricks.com/aws/en/oltp/)**, que são uma cópia somente de leitura de uma tabela Delta que é armazenada em formato orientado a linhas, otimizado para acesso **online**.\n",
    "\n",
    "O Lakebase é totalmente **serverless** e escalam automaticamente a capacidade de throughput conforme a carga de solicitações, proporcionando baixa latência e alto throughput no acesso a dados de qualquer escala.\n",
    "\n",
    "O Lakebase também fornece **integração** com o Mosaic AI Model Serving, Feature Serving e aplicações de geração aumentada por recuperação (RAG), onde são usadas para consultas rápidas de dados."
   ]
  },
  {
   "cell_type": "markdown",
   "metadata": {
    "application/vnd.databricks.v1+cell": {
     "cellMetadata": {
      "byteLimit": 2048000,
      "rowLimit": 10000
     },
     "inputWidgets": {},
     "isMarkdownSandbox": true,
     "nuid": "71371ebd-930d-47d7-9605-5a046fae22d7",
     "showTitle": false,
     "tableResultSettingsMap": {},
     "title": ""
    }
   },
   "source": [
    "## c. Consultando dados não-estruturados\n",
    "\n",
    "<img src=\"https://www.databricks.com/sites/default/files/2024-01/db-vector-search-image-01_0.png?v=1705100714\" style=\"float: right; width: 800px; margin-left: 10px\">\n",
    "\n",
    "No entanto, muitas vezes os dados que precisamos acessar não são necessariamente estruturados ou não estamos querendo fazer uma busca exata.\n",
    "\n",
    "O **[Databricks Vector Search](https://docs.databricks.com/aws/en/generative-ai/vector-search)** é um banco de dados vetorial serverless, **integrado** de forma transparente na Data Intelligence Platform.\n",
    "\n",
    "Ao contrário de outros bancos de dados, o Databricks Vector Search suporta a **sincronização automática** de dados da fonte para o índice, eliminando a manutenção complexa e cara de pipelines.\n",
    "\n",
    "Ele aproveita as mesmas ferramentas de **segurança e governança** de dados que as organizações já construíram para maior tranquilidade.\n",
    "\n",
    "Com seu design serverless, o Databricks Vector Search **escala** facilmente para suportar bilhões de embeddings e milhares de consultas em tempo real por segundo."
   ]
  },
  {
   "cell_type": "markdown",
   "metadata": {
    "application/vnd.databricks.v1+cell": {
     "cellMetadata": {},
     "inputWidgets": {},
     "nuid": "a1c122d6-24f1-4de2-8c81-843e512eef59",
     "showTitle": false,
     "tableResultSettingsMap": {},
     "title": ""
    }
   },
   "source": [
    "### i. Criando um Vector Search endpoint\n",
    "\n",
    "Para criar o endpoint, siga os passos abaixo:\n",
    "\n",
    "1. No **menu principal** à esquerda, clique em **Compute**\n",
    "1. Na parte superior, clique na aba **Vector Search**\n",
    "1. No canto superior direito, clique em **Create endpoint**\n",
    "1. Digite o nome `academy-vs-endpoint`\n",
    "1. Clique em **Confirm**"
   ]
  },
  {
   "cell_type": "markdown",
   "metadata": {
    "application/vnd.databricks.v1+cell": {
     "cellMetadata": {
      "byteLimit": 2048000,
      "rowLimit": 10000
     },
     "inputWidgets": {},
     "nuid": "21820e52-5745-4c49-bb54-97f190a42eb3",
     "showTitle": false,
     "tableResultSettingsMap": {},
     "title": ""
    }
   },
   "source": [
    "### ii. Consultando produtos similares\n",
    "\n",
    "Outro cenário interessante também é o de pesquisas por similaridade. \n",
    "\n",
    "Por exemplo, um usuário pode estar buscando alguma característica específica do produto que não esteja categorizada nos filtros existentes do nosso website.\n",
    "\n",
    "Dessa forma, podemos pesquisar dentro das descrições dos produtos e encontrar aqueles com maior relevância para o cliente, facilitando a descoberta destes produtos e aumentando as chances de conversão."
   ]
  },
  {
   "cell_type": "markdown",
   "metadata": {
    "application/vnd.databricks.v1+cell": {
     "cellMetadata": {},
     "inputWidgets": {},
     "nuid": "ed72fd1b-e9bb-4543-89d9-c86c8f214383",
     "showTitle": false,
     "tableResultSettingsMap": {},
     "title": ""
    }
   },
   "source": [
    "Para criar o índice no Vector Search, siga os passos abaixo:\n",
    "\n",
    "1. No **menu principal** à esquerda, clique em **Catalog**\n",
    "1. No canto superior esquerdo, pesquise a tabela `produtos`\n",
    "1. No canto superior direito, clique em **Create** > **Vector search index**\n",
    "1. Preencha as seguintes informações\n",
    "    - **Name:** produtos_index\n",
    "    - **Primary key:** id\n",
    "    - **Embedding source column:** produto\n",
    "    - **Embedding model:** databricks-gte-large-en\n",
    "    - **Vector search endpoint:** academy-vs-endpoint\n",
    "1. Clique em **Create**"
   ]
  },
  {
   "cell_type": "code",
   "execution_count": 0,
   "metadata": {
    "application/vnd.databricks.v1+cell": {
     "cellMetadata": {
      "byteLimit": 2048000,
      "implicitDf": true,
      "rowLimit": 10000
     },
     "inputWidgets": {},
     "nuid": "fb09c406-5a4a-42ae-9193-ef8a86ff2185",
     "showTitle": false,
     "tableResultSettingsMap": {},
     "title": ""
    }
   },
   "outputs": [],
   "source": [
    "%sql CREATE OR REPLACE FUNCTION buscar_produtos_semelhantes(descricao STRING)\n",
    "RETURNS TABLE(id LONG, produto STRING, descricao STRING, search_score DOUBLE)\n",
    "COMMENT 'Esta função recebe a descrição de um produto, que é utilizada para buscar produtos semelhantes'\n",
    "RETURN SELECT * FROM vector_search(\n",
    "  index => 'academy.playground.produtos_index',\n",
    "  query => buscar_produtos_semelhantes.descricao,\n",
    "  num_results => 10)\n",
    "WHERE search_score BETWEEN 0.003 AND 0.99\n",
    "LIMIT 3"
   ]
  },
  {
   "cell_type": "code",
   "execution_count": 0,
   "metadata": {
    "application/vnd.databricks.v1+cell": {
     "cellMetadata": {
      "byteLimit": 2048000,
      "implicitDf": true,
      "rowLimit": 10000
     },
     "inputWidgets": {},
     "nuid": "cb87a82d-82ef-4ff0-af30-3781dc5ed629",
     "showTitle": false,
     "tableResultSettingsMap": {},
     "title": ""
    }
   },
   "outputs": [],
   "source": [
    "%sql SELECT * FROM buscar_produtos_semelhantes(\"O fone de ouvido DEF é um dispositivo de áudio projetado para fornecer uma experiência de som imersiva e de alta qualidade. Com drivers de alta fidelidade e tecnologia de cancelamento de ruído, ele permite que você se perca na música ou nos detalhes de um podcast sem distrações. Além disso, seu design ergonômico garante confort durante o uso prolongado.\")"
   ]
  },
  {
   "cell_type": "markdown",
   "metadata": {
    "application/vnd.databricks.v1+cell": {
     "cellMetadata": {
      "byteLimit": 2048000,
      "rowLimit": 10000
     },
     "inputWidgets": {},
     "nuid": "9125c02d-45e8-4a11-a0b6-7fb6defdfe61",
     "showTitle": false,
     "tableResultSettingsMap": {},
     "title": ""
    }
   },
   "source": [
    "## d. Usando prompt engineering\n",
    "\n",
    "Para customizar o comportamento dos nossos modelos de IA Generativa, podemos utilizar prompts curados por especialistas. Dessa forma, conseguimos:\n",
    "\n",
    "* Aproveitar melhor o conhecimento de especialistas em IA ou determinado domínio de negócio para aumentar a **eficiência** dos agentes\n",
    "* Promover a **reutilização** desses ativos entre projetos \n",
    "* **Democratizar** o acesso a IA para usuários menos avançados\n",
    "\n",
    "### Personalização de respostas\n",
    "\n",
    "Com todas as informações extraídas, podemos aproveitá-las para gerar sugestões de respostas personalizadas para acelerar o trabalho dos nossos times de atendimento.\n",
    "\n",
    "Outro ponto interessante é que, nesse processo, podemos aproveitar outras **informações estruturadas** que já tenhamos no nosso ambiente, como dados demográficos, psicográficos e o histórico de compras, para customizar ainda mais nossas respostas!\n",
    "\n",
    "Vamos ver como fazer isso!"
   ]
  },
  {
   "cell_type": "code",
   "execution_count": 0,
   "metadata": {
    "application/vnd.databricks.v1+cell": {
     "cellMetadata": {
      "byteLimit": 2048000,
      "implicitDf": true,
      "rowLimit": 10000
     },
     "inputWidgets": {},
     "nuid": "593adefe-389c-4d8b-821f-b7849fdb7cfa",
     "showTitle": false,
     "tableResultSettingsMap": {},
     "title": ""
    }
   },
   "outputs": [],
   "source": [
    "%sql CREATE OR REPLACE FUNCTION gerar_resposta(nome STRING, sobrenome STRING, num_pedidos INT, produto STRING, motivo STRING)\n",
    "RETURNS TABLE(resposta STRING)\n",
    "COMMENT 'Caso o cliente demonstre insatisfação com algum produto, use esta função para gerar uma resposta personalizada'\n",
    "RETURN SELECT AI_QUERY(\n",
    "    'databricks-gpt-oss-120b',\n",
    "    CONCAT(\n",
    "        \"Você é um assistente virtual de um e-commerce. Nosso cliente, \", gerar_resposta.nome, \" \", gerar_resposta.sobrenome, \" que comprou \", gerar_resposta.num_pedidos, \" produtos este ano estava insatisfeito com o produto \", gerar_resposta.produto, \n",
    "        \", pois \", gerar_resposta.motivo, \". Forneça uma breve mensagem empática para o cliente incluindo a oferta de troca do produto, caso  esteja em conformidade com a nossa política de trocas. A troca pode ser feita diretamente por esse assistente. \",\n",
    "        \"Eu quero recuperar sua confiança e evitar que ele deixe de ser nosso cliente. \",\n",
    "        \"Escreva uma mensagem com poucas sentenças. \",\n",
    "        \"Não adicione nenhum texto além da mensagem. \",\n",
    "        \"Não adicione nenhuma assinatura.\"\n",
    "    )\n",
    ")"
   ]
  },
  {
   "cell_type": "code",
   "execution_count": 0,
   "metadata": {
    "application/vnd.databricks.v1+cell": {
     "cellMetadata": {
      "byteLimit": 2048000,
      "implicitDf": true,
      "rowLimit": 10000
     },
     "inputWidgets": {},
     "nuid": "49cb2b3e-1f35-4296-af39-b0c8f390a39d",
     "showTitle": false,
     "tableResultSettingsMap": {},
     "title": ""
    }
   },
   "outputs": [],
   "source": [
    "%sql SELECT * FROM gerar_resposta(\"João\", \"Silva\", 23, \"tablet DEF\", \"duração da bateria\")"
   ]
  },
  {
   "cell_type": "markdown",
   "metadata": {
    "application/vnd.databricks.v1+cell": {
     "cellMetadata": {
      "byteLimit": 2048000,
      "rowLimit": 10000
     },
     "inputWidgets": {},
     "nuid": "90a101b8-f708-414c-9d0e-6f5143b3e9f6",
     "showTitle": false,
     "tableResultSettingsMap": {},
     "title": ""
    }
   },
   "source": [
    "# Exercício 03 - Criando o agente\n",
    "\n",
    "Para decidir qual o melhor modelo e instrução para o nosso caso de uso, podemos utilizar o **[AI Playground](https://docs.databricks.com/en/large-language-models/ai-playground.html)**.\n",
    "\n",
    "Assim, podemos testar rapidamente diversas combinações de modelos e instruções através de uma interface intuitiva e escolher a melhor opção par utilizarmos no nosso projeto."
   ]
  },
  {
   "cell_type": "markdown",
   "metadata": {
    "application/vnd.databricks.v1+cell": {
     "cellMetadata": {},
     "inputWidgets": {},
     "isMarkdownSandbox": true,
     "nuid": "fe5cc90c-4721-42b9-81f9-288b49cc9ffe",
     "showTitle": false,
     "tableResultSettingsMap": {},
     "title": ""
    }
   },
   "source": [
    "## a. Configurando o Agente\n",
    "\n",
    "<img src=\"https://docs.databricks.com/en/_images/ai-playground.gif\" style=\"float: right; margin-top:20px; margin-bottom:50px; padding-left: 10px\" width=600>\n",
    "\n",
    "Siga os passos abaixo:\n",
    "\n",
    "1. No **menu principal** à esquerda, clique em **Playground**\n",
    "1. Clique no **seletor de modelos** e selecione o modelo **GPT OSS 120B**\n",
    "1. Clique no ícone **Add endpoint**\n",
    "1. Adicione a instrução abaixo:<br>\n",
    "    `Você é um assistente virtual de um e-commerce. Para responder à perguntas, é necessário que o cliente forneça um CPF válido. Caso ainda não tenha essa informação, solicite o CPF educadamente. Após validar o CPF, lembre-se de consultar os dados do cliente para personalizar suas respostas. Caso o CPF do cliente não exista na nossa base, peça educadamente um novo CPF. Você pode responder perguntas sobre entrega, devolução de produtos, status de pedidos, entre outros. Se você não souber como responder a pergunta, diga que você não sabe. Não invente ou especule sobre nada. Sempre que perguntado sobre procedimentos, consulte nossa base de conhecimento.`\n",
    "    <br>\n",
    "1. Clique em **Tools** > **Add tool**\n",
    "1. Digite o caminho das suas **ferramentas**: \n",
    "    - `academy.playground.valida_cpf`\n",
    "    - `academy.playground.consultar_cliente`\n",
    "    - `academy.playground.buscar_produtos_semelhantes`\n",
    "    - `academy.playground.gerar_resposta`\n",
    "1. Clique no ícone **enviar**"
   ]
  },
  {
   "cell_type": "markdown",
   "metadata": {
    "application/vnd.databricks.v1+cell": {
     "cellMetadata": {},
     "inputWidgets": {},
     "nuid": "e1f07992-3b10-42f5-a623-e42607c7be2f",
     "showTitle": false,
     "tableResultSettingsMap": {},
     "title": ""
    }
   },
   "source": [
    "## b. Testando o Agente\n",
    "\n",
    "Agora, podemos avaliar as respostas, o tempo e o custo do nosso agente para entender se ele atende às necessidades do nosso projeto!\n",
    "\n",
    "Envie as mensagens abaixo para o seu agente:\n",
    "1. Oi!\n",
    "1. Meu CPF é 111.111.111-11\n",
    "1. Comprei um tablet DEF, mas a duração da bateria é muito curta\n",
    "1. Poderia sugerir um produto melhor?"
   ]
  },
  {
   "cell_type": "markdown",
   "metadata": {
    "application/vnd.databricks.v1+cell": {
     "cellMetadata": {},
     "inputWidgets": {},
     "nuid": "7f1eb7fd-0565-49c6-94f8-d7a5f02141e8",
     "showTitle": false,
     "tableResultSettingsMap": {},
     "title": ""
    }
   },
   "source": [
    "# Exercício 04 - Avaliando e Implantando Agentes\n",
    "\n",
    "Depois de prototipar nosso agente, podemos mover para as etapas de avaliação e implantação."
   ]
  },
  {
   "cell_type": "markdown",
   "metadata": {
    "application/vnd.databricks.v1+cell": {
     "cellMetadata": {},
     "inputWidgets": {},
     "nuid": "a554b77e-3730-47fd-87fc-b7d25fd95d06",
     "showTitle": false,
     "tableResultSettingsMap": {},
     "title": ""
    }
   },
   "source": [
    "## a. Avaliação do agente\n",
    "\n",
    "Antes de colocar qualquer agente em produção, assim como qualquer outro tipo de software, é extremamente importante avaliar a sua qualidade. Para automatizar esse processo, podemos usar os **[built-in AI Judges](https://docs.databricks.com/aws/en/mlflow3/genai/eval-monitor/concepts/judges/pre-built-judges-scorers)**. Desta forma, temos acesso a avaliadores para tarefas comuns da validação de qualidade desenvolvidos pelo time de pesquisa da Databricks. \n",
    "\n",
    "Siga os passos abaixo para avaliar o agente:\n",
    "1. Na parte central superior do Playground, clique em **Get code** > **Create agent notebook**\n",
    "1. No notebook criado, execute as células das sessões abaixo para criar o agente e observar suas respostas\n",
    "    - Prerequisites\n",
    "    - Define the agent in code\n",
    "    - Test the agent\n",
    "1. Na sessão **Log the agent as an MLflow model**, adicione o índice do Vector Search e a tabela de clientes aos recursos do agente\n",
    "```\n",
    "from mlflow.models.resources import DatabricksTable, DatabricksVectorSearchIndex\n",
    "resources.append(DatabricksTable('academy.playground.clientes'))\n",
    "resources.append(DatabricksVectorSearchIndex('academy.playground.produtos_index'))\n",
    "```\n",
    "4. Execute as células da sessão **Evaluate the agent with Agent Evaluation** para avaliar a performance do agente usando AI Judges\n",
    "1. Clique em **View evaluation results** para analisar o resultado da avaliação\n",
    "1. Execute as células da sessão **Perform pre-deployment validation of the agent** para validar a execução do agente a partir do Mlflow"
   ]
  },
  {
   "cell_type": "markdown",
   "metadata": {
    "application/vnd.databricks.v1+cell": {
     "cellMetadata": {},
     "inputWidgets": {},
     "nuid": "61510f1f-ba35-4557-9dc8-53d3f3b07b29",
     "showTitle": false,
     "tableResultSettingsMap": {},
     "title": ""
    }
   },
   "source": [
    "## b. Implantando o agente como uma API REST\n",
    "\n",
    "Agora, podemos mover nosso agente para produção. Para permitir uma fácil integração com diversos sistemas e a execução em tempo real do agente, iremos implantá-lo como uma API REST.\n",
    "\n",
    "Para facilitar esse processo, iremos utilizar:\n",
    "  - **Unity Catalog** para versionar e controlar o acesso aos artefatos do agente\n",
    "  - **[Model Serving](https://docs.databricks.com/aws/en/machine-learning/model-serving/)** para criar um endpoint serverless para o agente\n",
    "\n",
    "Siga os passos abaixo para implantar o agente:\n",
    "1. Na sessão **Register the model to Unity Catalog**:\n",
    "    - Preencha as seguintes variáveis:\n",
    "        - **catalog:** academy\n",
    "        - **schema:** playground\n",
    "        - **model_name:** agente_atendimento\n",
    "    - Execute as células para registrar o agente no Unity Catalog\n",
    "1. Na sessão **Deploy the agent**, habilite a escalabilidade para zero, conforme abaixo, e execute as células para implantar o agente como uma API REST\n",
    "```\n",
    "from databricks import agents\n",
    "agents.deploy(UC_MODEL_NAME, uc_registered_model_info.version, scale_to_zero=True, tags = {\"endpointSource\": \"playground\"})\n",
    "```\n",
    "3. Acesse o link gerado ao lado de **View status** para visualizar o endpoint criado\n",
    "1. Após o status do endpoint mudar para **Ready**, clique no botão **Use** para conversar com o seu agente"
   ]
  }
 ],
 "metadata": {
  "application/vnd.databricks.v1+notebook": {
   "computePreferences": null,
   "dashboards": [],
   "environmentMetadata": {
    "base_environment": "",
    "environment_version": "2"
   },
   "inputWidgetPreferences": null,
   "language": "python",
   "notebookMetadata": {
    "mostRecentlyExecutedCommandWithImplicitDF": {
     "commandId": 2894186667605570,
     "dataframes": [
      "_sqldf"
     ]
    },
    "pythonIndentUnit": 2
   },
   "notebookName": "Lab 02 - Criando um Agente",
   "widgets": {}
  },
  "language_info": {
   "name": "python"
  }
 },
 "nbformat": 4,
 "nbformat_minor": 0
}
